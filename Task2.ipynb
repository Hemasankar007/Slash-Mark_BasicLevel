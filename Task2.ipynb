{
  "nbformat": 4,
  "nbformat_minor": 0,
  "metadata": {
    "colab": {
      "provenance": [],
      "authorship_tag": "ABX9TyNVDvnYCmiXo7X8J6JdiSl/",
      "include_colab_link": true
    },
    "kernelspec": {
      "name": "python3",
      "display_name": "Python 3"
    },
    "language_info": {
      "name": "python"
    }
  },
  "cells": [
    {
      "cell_type": "markdown",
      "metadata": {
        "id": "view-in-github",
        "colab_type": "text"
      },
      "source": [
        "<a href=\"https://colab.research.google.com/github/Hemasankar007/Slash-Mark_BasicLevel/blob/main/Task2.ipynb\" target=\"_parent\"><img src=\"https://colab.research.google.com/assets/colab-badge.svg\" alt=\"Open In Colab\"/></a>"
      ]
    },
    {
      "cell_type": "code",
      "execution_count": 1,
      "metadata": {
        "colab": {
          "base_uri": "https://localhost:8080/"
        },
        "id": "e4NeGUQt7uoX",
        "outputId": "9f243ffa-0df4-4b7a-ba88-b71adde9f3f6"
      },
      "outputs": [
        {
          "output_type": "stream",
          "name": "stdout",
          "text": [
            "Mean Squared Error: 2.328903225210288e+16\n",
            "Predicted Home Price: 2247695616.0\n"
          ]
        }
      ],
      "source": [
        "import numpy as np\n",
        "import pandas as pd\n",
        "from sklearn.model_selection import train_test_split\n",
        "from sklearn.metrics import mean_squared_error\n",
        "import xgboost as xgb\n",
        "\n",
        "# Generate synthetic data\n",
        "np.random.seed(42)\n",
        "data_size = 1000\n",
        "\n",
        "income = np.random.uniform(30000, 100000, data_size)\n",
        "schools = np.random.uniform(1, 10, data_size)\n",
        "hospitals = np.random.uniform(1, 5, data_size)\n",
        "crime_rates = np.random.uniform(1, 10, data_size)\n",
        "home_prices = 50000 + 30000 * income + 5000 * schools - 2000 * hospitals + 10000 * (10 - crime_rates) + np.random.normal(0, 10000, data_size)\n",
        "\n",
        "# Create a DataFrame\n",
        "df = pd.DataFrame({'Income': income, 'Schools': schools, 'Hospitals': hospitals, 'CrimeRates': crime_rates, 'HomePrices': home_prices})\n",
        "\n",
        "# Split the data into features (X) and target variable (y)\n",
        "X = df[['Income', 'Schools', 'Hospitals', 'CrimeRates']]\n",
        "y = df['HomePrices']\n",
        "\n",
        "# Split the data into training and testing sets\n",
        "X_train, X_test, y_train, y_test = train_test_split(X, y, test_size=0.2, random_state=42)\n",
        "\n",
        "# Initialize XGBoost Regressor\n",
        "xgb_reg = xgb.XGBRegressor(objective ='reg:squarederror', colsample_bytree = 0.3, learning_rate = 0.1,\n",
        "                max_depth = 5, alpha = 10, n_estimators = 100)\n",
        "\n",
        "# Fit the model\n",
        "xgb_reg.fit(X_train, y_train)\n",
        "\n",
        "# Make predictions on the test set\n",
        "y_pred = xgb_reg.predict(X_test)\n",
        "\n",
        "# Evaluate the model\n",
        "mse = mean_squared_error(y_test, y_pred)\n",
        "print(f'Mean Squared Error: {mse}')\n",
        "\n",
        "# Example: Predicting home price for a new data point\n",
        "new_data_point = np.array([[80000, 8, 3, 5]])\n",
        "predicted_price = xgb_reg.predict(new_data_point)\n",
        "print(f'Predicted Home Price: {predicted_price[0]}')\n"
      ]
    }
  ]
}